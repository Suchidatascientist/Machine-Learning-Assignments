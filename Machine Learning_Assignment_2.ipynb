{
 "cells": [
  {
   "cell_type": "code",
   "execution_count": null,
   "id": "76ac76a5",
   "metadata": {},
   "outputs": [],
   "source": [
    "1. What is the concept of human learning? Please give two examples."
   ]
  },
  {
   "cell_type": "code",
   "execution_count": null,
   "id": "401f34bc",
   "metadata": {},
   "outputs": [],
   "source": [
    "It is the form of learning which requires higher order mental processes like thinking, reasoning, intelligence, etc. we learn different concepts from childhood. For example, when we see a dog and attach the term 'dog', we learn that the word dog refers to a particular animal."
   ]
  },
  {
   "cell_type": "code",
   "execution_count": null,
   "id": "69d0095c",
   "metadata": {},
   "outputs": [],
   "source": []
  },
  {
   "cell_type": "code",
   "execution_count": null,
   "id": "81fe9cab",
   "metadata": {},
   "outputs": [],
   "source": [
    "2. What different forms of human learning are there? Are there any machine learning equivalents?"
   ]
  },
  {
   "cell_type": "code",
   "execution_count": null,
   "id": "0037cf42",
   "metadata": {},
   "outputs": [],
   "source": [
    "The three major types of learning described by behavioral psychology are classical conditioning, operant conditioning, and observational learning."
   ]
  },
  {
   "cell_type": "code",
   "execution_count": null,
   "id": "893f7d8d",
   "metadata": {},
   "outputs": [],
   "source": []
  },
  {
   "cell_type": "code",
   "execution_count": null,
   "id": "5a33d8e1",
   "metadata": {},
   "outputs": [],
   "source": [
    "3. What is machine learning, and how does it work? What are the key responsibilities of machine learning?"
   ]
  },
  {
   "cell_type": "code",
   "execution_count": null,
   "id": "61d635af",
   "metadata": {},
   "outputs": [],
   "source": [
    "Machine learning brings out the power of data in new ways, such as Facebook suggesting articles in your feed. This amazing technology helps computer systems learn and improve from experience by developing computer programs that can automatically access data and perform tasks via predictions and detections."
   ]
  },
  {
   "cell_type": "code",
   "execution_count": null,
   "id": "7fb125e1",
   "metadata": {},
   "outputs": [],
   "source": []
  },
  {
   "cell_type": "code",
   "execution_count": null,
   "id": "00a13522",
   "metadata": {},
   "outputs": [],
   "source": [
    "4. Define the terms \"penalty\" and \"reward\" in the context of reinforcement learning."
   ]
  },
  {
   "cell_type": "code",
   "execution_count": null,
   "id": "5758e263",
   "metadata": {},
   "outputs": [],
   "source": [
    "A reinforcement learning algorithm, which may also be referred to as an agent, learns by interacting with its environment. The agent receives rewards by performing correctly and penalties for performing incorrectly."
   ]
  },
  {
   "cell_type": "code",
   "execution_count": null,
   "id": "a40f942b",
   "metadata": {},
   "outputs": [],
   "source": []
  },
  {
   "cell_type": "code",
   "execution_count": null,
   "id": "d762b66b",
   "metadata": {},
   "outputs": [],
   "source": [
    "5. Explain the term \"learning as a search\"?"
   ]
  },
  {
   "cell_type": "code",
   "execution_count": null,
   "id": "541a4a52",
   "metadata": {},
   "outputs": [],
   "source": [
    "Learning can be viewed as a search through the space of all sentences in a concept description language for a sentence that best describes the data."
   ]
  },
  {
   "cell_type": "code",
   "execution_count": null,
   "id": "80853dee",
   "metadata": {},
   "outputs": [],
   "source": []
  },
  {
   "cell_type": "code",
   "execution_count": null,
   "id": "b427a766",
   "metadata": {},
   "outputs": [],
   "source": [
    "6. What are the various goals of machine learning? What is the relationship between these and human learning?"
   ]
  },
  {
   "cell_type": "code",
   "execution_count": null,
   "id": "63013e98",
   "metadata": {},
   "outputs": [],
   "source": [
    "to discover patterns in the user data and then make predictions based on these and intricate patterns for answering business questions and solving business problems. Machine learning helps in analysing the data as well as identifying trends\n",
    "\n",
    "Human learning process varies from person to person. Once a learning process is set into the minds of people, it is difficult to change it. But, in Machine Learning (ML), it is easy to change the learning method by selecting a different algorithm."
   ]
  },
  {
   "cell_type": "code",
   "execution_count": null,
   "id": "d2a045a6",
   "metadata": {},
   "outputs": [],
   "source": []
  },
  {
   "cell_type": "code",
   "execution_count": null,
   "id": "b493be03",
   "metadata": {},
   "outputs": [],
   "source": [
    "7. Illustrate the various elements of machine learning using a real-life illustration."
   ]
  },
  {
   "cell_type": "code",
   "execution_count": null,
   "id": "ffef4586",
   "metadata": {},
   "outputs": [],
   "source": [
    "1. Image recognition -> Real-world examples of image recognition:\n",
    "\n",
    "Label an x-ray as cancerous or not\n",
    "Assign a name to a photographed face (aka “tagging” on social media)\n",
    "Recognise handwriting by segmenting a single letter into smaller images\n",
    "\n",
    "2. Speech recognition -> Real-world examples of speech recognition:\n",
    "Voice search\n",
    "Voice dialling\n",
    "Appliance control\n",
    "\n",
    "3. Medical diagnosis -> Real-world examples for medical diagnosis:\n",
    "\n",
    "Assisting in formulating a diagnosis or recommends a treatment option\n",
    "Oncology and pathology use machine learning to recognise cancerous tissue \n",
    "Analyse bodily fluids"
   ]
  },
  {
   "cell_type": "code",
   "execution_count": null,
   "id": "b7ce35aa",
   "metadata": {},
   "outputs": [],
   "source": []
  },
  {
   "cell_type": "code",
   "execution_count": null,
   "id": "0c6ed930",
   "metadata": {},
   "outputs": [],
   "source": [
    "8. Provide an example of the abstraction method."
   ]
  },
  {
   "cell_type": "code",
   "execution_count": null,
   "id": "d14ff823",
   "metadata": {},
   "outputs": [],
   "source": [
    "Data Abstraction refers to the act of representing essential features without including the background details or explanations. A Switchboard is an example of Data Abstraction. It hides all the details of the circuitry and current flow and provides a very simple way to switch ON or OFF electrical appliances."
   ]
  },
  {
   "cell_type": "code",
   "execution_count": null,
   "id": "9cc3d5fb",
   "metadata": {},
   "outputs": [],
   "source": []
  },
  {
   "cell_type": "code",
   "execution_count": null,
   "id": "804e42a1",
   "metadata": {},
   "outputs": [],
   "source": [
    "9. What is the concept of generalization? What function does it play in the machine learning process?\n",
    "What is classification, exactly? What are the main distinctions between classification and regression?"
   ]
  },
  {
   "cell_type": "code",
   "execution_count": null,
   "id": "9da0f5e0",
   "metadata": {},
   "outputs": [],
   "source": [
    "Generalization refers to your model's ability to adapt properly to new, previously unseen data, drawn from the same distribution as the one used to create the model\n",
    "The main difference between Regression and Classification algorithms that Regression algorithms are used to predict the continuous values such as price, salary, age, etc. and Classification algorithms are used to predict/Classify the discrete values such as Male or Female, True or False, Spam or Not Spam, etc."
   ]
  },
  {
   "cell_type": "code",
   "execution_count": null,
   "id": "4a30e4be",
   "metadata": {},
   "outputs": [],
   "source": []
  },
  {
   "cell_type": "code",
   "execution_count": null,
   "id": "db1af286",
   "metadata": {},
   "outputs": [],
   "source": [
    "11. What is regression, and how does it work? Give an example of a real-world problem that was solved using regression."
   ]
  },
  {
   "cell_type": "code",
   "execution_count": null,
   "id": "00514e20",
   "metadata": {},
   "outputs": [],
   "source": [
    "Regression is a technique for investigating the relationship between independent variables or features and a dependent variable or outcome.\n",
    "\n",
    "Cash forecasting: Many businesses use linear regression to forecast how much cash they’ll have on hand in the future. This is important for things like managing expenses and ensuring that there is enough cash on hand to cover unexpected costs."
   ]
  },
  {
   "cell_type": "code",
   "execution_count": null,
   "id": "0d6cb944",
   "metadata": {},
   "outputs": [],
   "source": []
  },
  {
   "cell_type": "code",
   "execution_count": null,
   "id": "e7343de9",
   "metadata": {},
   "outputs": [],
   "source": [
    "12. Describe the clustering mechanism in detail."
   ]
  },
  {
   "cell_type": "code",
   "execution_count": null,
   "id": "9b1f54ac",
   "metadata": {},
   "outputs": [],
   "source": [
    "Clustering is the task of dividing the population or data points into a number of groups such that data points in the same groups are more similar to other data points in the same group than those in other groups. In simple words, the aim is to segregate groups with similar traits and assign them into clusters"
   ]
  },
  {
   "cell_type": "code",
   "execution_count": null,
   "id": "be1b8e73",
   "metadata": {},
   "outputs": [],
   "source": []
  },
  {
   "cell_type": "code",
   "execution_count": null,
   "id": "07e409f2",
   "metadata": {},
   "outputs": [],
   "source": [
    "13. Make brief observations on two of the following topics:\n",
    "i. Machine learning algorithms are used\n",
    "ii. Studying under supervision\n",
    "iii. Studying without supervision\n",
    "iv. Reinforcement learning is a form of learning based on positive reinforcement."
   ]
  },
  {
   "cell_type": "code",
   "execution_count": null,
   "id": "7cbe0bf8",
   "metadata": {},
   "outputs": [],
   "source": [
    "iii.Unsupervised learning is helpful for finding useful insights from the data. Unsupervised learning is much similar as a human learns to think by their own experiences\n",
    "iv.Reinforcement learning is a machine learning training method based on rewarding desired behaviors and/or punishing undesired ones. In general, a reinforcement learning agent is able to perceive and interpret its environment, take actions and learn through trial and error."
   ]
  }
 ],
 "metadata": {
  "kernelspec": {
   "display_name": "Python 3 (ipykernel)",
   "language": "python",
   "name": "python3"
  },
  "language_info": {
   "codemirror_mode": {
    "name": "ipython",
    "version": 3
   },
   "file_extension": ".py",
   "mimetype": "text/x-python",
   "name": "python",
   "nbconvert_exporter": "python",
   "pygments_lexer": "ipython3",
   "version": "3.9.7"
  }
 },
 "nbformat": 4,
 "nbformat_minor": 5
}
