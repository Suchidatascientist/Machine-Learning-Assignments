{
 "cells": [
  {
   "cell_type": "code",
   "execution_count": null,
   "id": "d57e8c4b",
   "metadata": {},
   "outputs": [],
   "source": [
    "1. What are the key tasks that machine learning entails? What does data pre-processing imply?"
   ]
  },
  {
   "cell_type": "code",
   "execution_count": null,
   "id": "d819aa6d",
   "metadata": {},
   "outputs": [],
   "source": [
    "Data preprocessing is required tasks for cleaning the data and making it suitable for a machine learning model which also increases the accuracy and efficiency of a machine learning model. It involves below steps: Getting the dataset. Importing libraries."
   ]
  },
  {
   "cell_type": "code",
   "execution_count": null,
   "id": "2949c7b0",
   "metadata": {},
   "outputs": [],
   "source": []
  },
  {
   "cell_type": "code",
   "execution_count": null,
   "id": "c75338d3",
   "metadata": {},
   "outputs": [],
   "source": [
    "2. Describe quantitative and qualitative data in depth. Make a distinction between the two."
   ]
  },
  {
   "cell_type": "code",
   "execution_count": null,
   "id": "64f94f71",
   "metadata": {},
   "outputs": [],
   "source": [
    "Quantitative data is numbers-based, countable, or measurable. Qualitative data is interpretation-based, descriptive, and relating to language. Quantitative data tells us how many, how much, or how often in calculations. Qualitative data can help us to understand why, how, or what happened behind certain behaviors\n",
    "\n",
    "Qualitative data describe​ categories, while quantitative data represent counts or measures. Brand names of shoes in a consumer survey and eye colors are examples of qualitative data. Heights of students and quiz scores are examples of quantitative data."
   ]
  },
  {
   "cell_type": "code",
   "execution_count": null,
   "id": "1ec65cd1",
   "metadata": {},
   "outputs": [],
   "source": []
  },
  {
   "cell_type": "code",
   "execution_count": null,
   "id": "2c0a4fd4",
   "metadata": {},
   "outputs": [],
   "source": [
    "3. Create a basic data collection that includes some sample records. Have at least one attribute from each of the machine learning data types."
   ]
  },
  {
   "cell_type": "code",
   "execution_count": null,
   "id": "dadc7bb9",
   "metadata": {},
   "outputs": [],
   "source": []
  },
  {
   "cell_type": "code",
   "execution_count": null,
   "id": "bc156605",
   "metadata": {},
   "outputs": [],
   "source": []
  },
  {
   "cell_type": "code",
   "execution_count": null,
   "id": "2b3e6c65",
   "metadata": {},
   "outputs": [],
   "source": [
    "4. What are the various causes of machine learning data issues? What are the ramifications?"
   ]
  },
  {
   "cell_type": "code",
   "execution_count": null,
   "id": "df851095",
   "metadata": {},
   "outputs": [],
   "source": [
    "Noisy data, dirty data, and incomplete data are the quintessential enemies of ideal Machine Learning."
   ]
  },
  {
   "cell_type": "code",
   "execution_count": null,
   "id": "b61225e1",
   "metadata": {},
   "outputs": [],
   "source": []
  },
  {
   "cell_type": "code",
   "execution_count": null,
   "id": "fd9805f4",
   "metadata": {},
   "outputs": [],
   "source": [
    "5. Demonstrate various approaches to categorical data exploration with appropriate examples."
   ]
  },
  {
   "cell_type": "code",
   "execution_count": null,
   "id": "8b3cacb7",
   "metadata": {},
   "outputs": [],
   "source": [
    "This means that if your data contains categorical data, you must encode it to numbers before you can fit and evaluate a model. The two most popular techniques are an integer encoding and a one hot encoding, although a newer technique called learned embedding may provide a useful middle ground between these two method"
   ]
  },
  {
   "cell_type": "code",
   "execution_count": null,
   "id": "c1e7cea9",
   "metadata": {},
   "outputs": [],
   "source": []
  },
  {
   "cell_type": "code",
   "execution_count": null,
   "id": "45ee4009",
   "metadata": {},
   "outputs": [],
   "source": [
    "6. How would the learning activity be affected if certain variables have missing values? Having said that, what can be done about it?"
   ]
  },
  {
   "cell_type": "code",
   "execution_count": null,
   "id": "fa8fcb81",
   "metadata": {},
   "outputs": [],
   "source": [
    "Missing data can reduce the statistical power of a study and can produce biased estimates, leading to invalid conclusions.\n",
    "\n",
    "Imputing the Missing Value\n",
    "Replacing With Arbitrary Value. ...\n",
    "Replacing With Mode. ...\n",
    "Replacing With Median. ...\n",
    "Replacing with previous value – Forward fill. ...\n",
    "Replacing with next value – Backward fill. ...\n",
    "Interpolation. ...\n",
    "Impute the Most Frequent Value."
   ]
  },
  {
   "cell_type": "code",
   "execution_count": null,
   "id": "522d59e2",
   "metadata": {},
   "outputs": [],
   "source": []
  },
  {
   "cell_type": "code",
   "execution_count": null,
   "id": "8010ad7c",
   "metadata": {},
   "outputs": [],
   "source": [
    "7. Describe the various methods for dealing with missing data values in depth."
   ]
  },
  {
   "cell_type": "code",
   "execution_count": null,
   "id": "41c58bad",
   "metadata": {},
   "outputs": [],
   "source": [
    "i.Mean or Median Imputation. When data is missing at random, we can use list-wise or pair-wise deletion of the missing observations. ...\n",
    "ii.Multivariate Imputation by Chained Equations (MICE) MICE assumes that the missing data are Missing at Random (MAR). ...\n",
    "iii.Random Forest."
   ]
  },
  {
   "cell_type": "code",
   "execution_count": null,
   "id": "0ab6faf9",
   "metadata": {},
   "outputs": [],
   "source": []
  },
  {
   "cell_type": "code",
   "execution_count": null,
   "id": "f99b8ff8",
   "metadata": {},
   "outputs": [],
   "source": [
    "8. What are the various data pre-processing techniques? Explain dimensionality reduction and function selection in a few words."
   ]
  },
  {
   "cell_type": "code",
   "execution_count": null,
   "id": "2d2bc51e",
   "metadata": {},
   "outputs": [],
   "source": [
    "Data Cleaning/Cleansing. Cleaning “dirty” data. Real-world data tend to be incomplete, noisy, and inconsistent. ...\n",
    "Data Integration. Combining data from multiple sources. ...\n",
    "Data Transformation. Constructing data cube. ...\n",
    "Data Reduction. Reducing representation of data set.\n",
    "\n",
    "\n",
    "\n",
    "Feature selection is simply selecting and excluding given features without changing them. Dimensionality reduction transforms features into a lower dimension"
   ]
  },
  {
   "cell_type": "code",
   "execution_count": null,
   "id": "0a1678f4",
   "metadata": {},
   "outputs": [],
   "source": []
  },
  {
   "cell_type": "code",
   "execution_count": null,
   "id": "6ef25277",
   "metadata": {},
   "outputs": [],
   "source": [
    "9.i. What is the IQR? What criteria are used to assess it?\n",
    "\n",
    " ii. Describe the various components of a box plot in detail? When will the lower whisker    surpass the upper whisker in length? How can box plots be used to identify outliers?"
   ]
  },
  {
   "cell_type": "code",
   "execution_count": null,
   "id": "03a506bd",
   "metadata": {},
   "outputs": [],
   "source": [
    "i. The interquartile range is calculated in much the same way as the range. All you do to find it is subtract the first quartile from the third quartile: IQR = Q3 – Q1. The interquartile range shows how the data is spread about the median.\n",
    "ii.A box and whisker plot—also called a box plot—displays the five-number summary of a set of data. The five-number summary is the minimum, first quartile, median, third quartile, and maximum. In a box plot, we draw a box from the first quartile to the third quartile. A vertical line goes through the box at the median.\n",
    "When reviewing a box plot, an outlier is defined as a data point that is located outside the whiskers of the box plot."
   ]
  },
  {
   "cell_type": "code",
   "execution_count": null,
   "id": "71927dda",
   "metadata": {},
   "outputs": [],
   "source": []
  },
  {
   "cell_type": "code",
   "execution_count": null,
   "id": "684d0a7d",
   "metadata": {},
   "outputs": [],
   "source": [
    "10. Make brief notes on any two of the following:\n",
    "\n",
    "              1. Data collected at regular intervals\n",
    "\n",
    "               2. The gap between the quartiles\n",
    "\n",
    "               3. Use a cross-tab\n",
    "\n",
    "1. Make a comparison between:\n",
    "\n",
    "1. Data with nominal and ordinal values\n",
    "\n",
    "2. Histogram and box plot\n",
    "\n",
    "3. The average and median"
   ]
  },
  {
   "cell_type": "code",
   "execution_count": null,
   "id": "dea48f45",
   "metadata": {},
   "outputs": [],
   "source": [
    "1.Interval data is a type of data which is measured along a scale, in which each point is placed at an equal distance (interval) from one another. Interval data is one of the two types of discrete data.\n",
    "\n",
    "2.The gap between the quartiles is The interquartile range or IQR is the range of the middle half of a set of data. It is the difference between the upper quartile and the lower quartile\n",
    "\n",
    "3. Use a cross-tab :- Cross-tabulation (also cross-tabulation or crosstab) is one of the most useful analytical tools and a mainstay of the market research industry. Cross-tabulation analysis, also known as contingency table analysis, is most often used to analyze categorical (nominal measurement scale) data.\n",
    "    \n",
    "  \n",
    "1. Data with nominal and ordinal values\n",
    "\n",
    "Nominal data is classified without a natural order or rank, whereas ordinal data has a predetermined or natural order.\n",
    "Examples of nominal data include country, gender, race, hair color etc. of a group of people, while that of ordinal data includes having a position in class as “First” or “Second”. Note that the nominal data examples are nouns, with no order to them while ordinal data examples come with a level of order.\n",
    "\n",
    "2. Histogram and box plot\n",
    "\n",
    "Histograms are a special kind of bar graph that shows a bar for a range of data values instead of a single value. A box plot is a data display that draws a box over a number line to show the interquartile range of the data\n",
    "\n",
    "3. The average and median\n",
    "\n",
    "The average is the arithmetic mean of a set of numbers. The median is a numeric value that separates the higher half of a set from the lower half."
   ]
  }
 ],
 "metadata": {
  "kernelspec": {
   "display_name": "Python 3 (ipykernel)",
   "language": "python",
   "name": "python3"
  },
  "language_info": {
   "codemirror_mode": {
    "name": "ipython",
    "version": 3
   },
   "file_extension": ".py",
   "mimetype": "text/x-python",
   "name": "python",
   "nbconvert_exporter": "python",
   "pygments_lexer": "ipython3",
   "version": "3.9.7"
  }
 },
 "nbformat": 4,
 "nbformat_minor": 5
}
