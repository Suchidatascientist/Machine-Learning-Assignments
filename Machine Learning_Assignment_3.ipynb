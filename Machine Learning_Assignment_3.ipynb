{
 "cells": [
  {
   "cell_type": "code",
   "execution_count": null,
   "id": "96d03944",
   "metadata": {},
   "outputs": [],
   "source": [
    "1.Explain the term machine learning, and how does it work? Explain two machine learning applications in the business world. What are some of the ethical concerns that machine learning applications could raise?"
   ]
  },
  {
   "cell_type": "code",
   "execution_count": null,
   "id": "323ebd36",
   "metadata": {},
   "outputs": [],
   "source": [
    "Machine learning (ML) is a branch of artificial intelligence (AI) that focuses on building applications that can automatically and periodically learn and improve from experience without being explicitly programmed.At its heart, machine learning algorithms analyze and identify patterns from datasets and use this information to make better predictions on new data sets.\n",
    "\n",
    "Machine Learning in finance helps in portfolio management, algorithmic trading, loan underwriting, and fraud detection. However, future applications of Machine Learning in finance will include Chatbots and other conversational interfaces for security, customer service, and sentiment analysis\n",
    "\n",
    "some of the ethical concerns that machine learning applications could raise are as mentioned below:-\n",
    "    \n",
    "Cost to innovation.\n",
    "Harm to physical integrity.\n",
    "Lack of access to public services.\n",
    "Lack of trust.\n",
    "“Awakening” of AI.\n",
    "Security problems.\n",
    "Lack of quality data.\n",
    "Disappearance of jobs."
   ]
  },
  {
   "cell_type": "code",
   "execution_count": null,
   "id": "373a074e",
   "metadata": {},
   "outputs": [],
   "source": []
  },
  {
   "cell_type": "code",
   "execution_count": null,
   "id": "05c156e3",
   "metadata": {},
   "outputs": [],
   "source": [
    "2. Describe the process of human learning:\n",
    "           i. Under the supervision of experts\n",
    "\n",
    "           ii. With the assistance of experts in an indirect manner\n",
    "\n",
    "            iii. Self-education"
   ]
  },
  {
   "cell_type": "code",
   "execution_count": null,
   "id": "15fabf79",
   "metadata": {},
   "outputs": [],
   "source": [
    "i.Under the supervision of experts-> supervised learning, which uses a set of human-labeled training data to develop a model.\n",
    "ii.indirect guidance from observing and interacting with others, artifacts and social forms and norms \n",
    "iii.Self-learning is an approach to learning where the individual makes the effort to identify their own learning needs, set learning goals, find the necessary resources, and evaluate their own knowledge"
   ]
  },
  {
   "cell_type": "code",
   "execution_count": null,
   "id": "167c3b14",
   "metadata": {},
   "outputs": [],
   "source": []
  },
  {
   "cell_type": "code",
   "execution_count": null,
   "id": "e7bfaf2b",
   "metadata": {},
   "outputs": [],
   "source": [
    "3. Provide a few examples of various types of machine learning."
   ]
  },
  {
   "cell_type": "code",
   "execution_count": null,
   "id": "42e81163",
   "metadata": {},
   "outputs": [],
   "source": [
    "Random Forest Algorithm.\n",
    "Decision Tree Algorithm.\n",
    "Logistic Regression Algorithm.\n",
    "Support Vector Machine Algorithm"
   ]
  },
  {
   "cell_type": "code",
   "execution_count": null,
   "id": "42a092b3",
   "metadata": {},
   "outputs": [],
   "source": []
  },
  {
   "cell_type": "code",
   "execution_count": null,
   "id": "e2706425",
   "metadata": {},
   "outputs": [],
   "source": [
    "4. Examine the various forms of machine learning."
   ]
  },
  {
   "cell_type": "code",
   "execution_count": null,
   "id": "1b1eb2a4",
   "metadata": {},
   "outputs": [],
   "source": [
    "These are three types of machine learning: supervised learning, unsupervised learning, and reinforcement learning"
   ]
  },
  {
   "cell_type": "code",
   "execution_count": null,
   "id": "2e12a9ca",
   "metadata": {},
   "outputs": [],
   "source": []
  },
  {
   "cell_type": "code",
   "execution_count": null,
   "id": "83c86b9d",
   "metadata": {},
   "outputs": [],
   "source": [
    "5. Can you explain what a well-posed learning problem is? Explain the main characteristics that must be present to identify a learning problem properly."
   ]
  },
  {
   "cell_type": "code",
   "execution_count": null,
   "id": "a575b694",
   "metadata": {},
   "outputs": [],
   "source": [
    "Well Posed Learning Problem – A computer program is said to learn from experience E in context to some task T and some performance measure P, if its performance on T, as was measured by P, upgrades with experience "
   ]
  },
  {
   "cell_type": "code",
   "execution_count": null,
   "id": "287784cf",
   "metadata": {},
   "outputs": [],
   "source": []
  },
  {
   "cell_type": "code",
   "execution_count": null,
   "id": "d1c2e875",
   "metadata": {},
   "outputs": [],
   "source": [
    "6. Is machine learning capable of solving all problems? Give a detailed explanation of your answer."
   ]
  },
  {
   "cell_type": "code",
   "execution_count": null,
   "id": "8f0853b7",
   "metadata": {},
   "outputs": [],
   "source": [
    "Machine learning is now seen as a silver bullet for solving all problems, but sometimes it is not the answer.\n",
    "\n",
    "We are listing five such problems in this article.\n",
    "Reasoning Power. One area where ML has not mastered successfully is reasoning power, a distinctly human trait. ...\n",
    "Contextual Limitation. ...\n",
    "Scalability. ...\n",
    "Regulatory Restriction For Data In ML. ...\n",
    "Internal Working Of Deep Learning."
   ]
  },
  {
   "cell_type": "code",
   "execution_count": null,
   "id": "7571c759",
   "metadata": {},
   "outputs": [],
   "source": []
  },
  {
   "cell_type": "code",
   "execution_count": null,
   "id": "f2f0ffef",
   "metadata": {},
   "outputs": [],
   "source": [
    "7. What are the various methods and technologies for solving machine learning problems? Any two of them should be defined in detail."
   ]
  },
  {
   "cell_type": "code",
   "execution_count": null,
   "id": "dcad8c34",
   "metadata": {},
   "outputs": [],
   "source": [
    "Scikit Learn -> It helps in data mining and data analysis.\n",
    "It provides models and algorithms for Classification, Regression, Clustering, Dimensional reduction, Model selection, and Pre-processing.\n",
    "\n",
    "PyTorch - > It helps in building neural networks through Autograd Module.\n",
    "It provides a variety of optimization algorithms for building neural networks.\n",
    "PyTorch can be used on cloud platforms.\n",
    "It provides distributed training, various tools, and libraries."
   ]
  },
  {
   "cell_type": "code",
   "execution_count": null,
   "id": "f276d36d",
   "metadata": {},
   "outputs": [],
   "source": []
  },
  {
   "cell_type": "code",
   "execution_count": null,
   "id": "1118029c",
   "metadata": {},
   "outputs": [],
   "source": [
    "8.Can you explain the various forms of supervised learning? Explain each one with an example application."
   ]
  },
  {
   "cell_type": "code",
   "execution_count": null,
   "id": "769ea0fb",
   "metadata": {},
   "outputs": [],
   "source": [
    "There are two types of Supervised Learning techniques: Regression and Classification.\n",
    "Regression - > predicting the price of a house given house features, predicting the impact of SAT/GRE scores on college admissions, predicting the sales based on input parameters, predicting the weather, etc.\n",
    "Classification -> spam detection, churn prediction, sentiment analysis, dog breed detection"
   ]
  },
  {
   "cell_type": "code",
   "execution_count": null,
   "id": "805be08d",
   "metadata": {},
   "outputs": [],
   "source": []
  },
  {
   "cell_type": "code",
   "execution_count": null,
   "id": "626da54d",
   "metadata": {},
   "outputs": [],
   "source": [
    "9. What is the difference between supervised and unsupervised learning? With a sample application in each region, explain the differences."
   ]
  },
  {
   "cell_type": "code",
   "execution_count": null,
   "id": "57ad750c",
   "metadata": {},
   "outputs": [],
   "source": [
    "i.Supervised Learning includes various algorithms such as Bayesian Logic, Decision Tree, Logistic Regression, Linear Regression, Multi-class Classification, Support Vector Machine etc.\tUnsupervised Learning includes various algorithms like KNN, Apriori Algorithm, and Clustering.\n",
    "ii.Some of the applications of Supervised Learning are Spam detection, handwriting detection, pattern recognition, speech recognition etc.\tSome of the applications of Unsupervised Learning are detecting fraudulent transactions, data preprocessing etc.\n",
    "iii.Supervised Learning will use off-line analysis\tUnsupervised Learning uses Real time analysis of data.\n",
    "iv.Training the model to predict output when a new data is provided is the objective of Supervised Learning.\tFinding useful insights, hidden patterns from the unknown dataset is the objective of the unsupervised learning."
   ]
  },
  {
   "cell_type": "code",
   "execution_count": null,
   "id": "ee88f8b5",
   "metadata": {},
   "outputs": [],
   "source": []
  },
  {
   "cell_type": "code",
   "execution_count": null,
   "id": "77bc77bc",
   "metadata": {},
   "outputs": [],
   "source": [
    "10. Describe the machine learning process in depth.\n",
    "\n",
    "a. Make brief notes on any two of the following:\n",
    "\n",
    "MATLAB is one of the most widely used programming languages.\n",
    "\n",
    "        ii. Deep learning applications in healthcare\n",
    "\n",
    "        iii. Study of the market basket\n",
    "\n",
    "         iv. Linear regression (simple)"
   ]
  },
  {
   "cell_type": "code",
   "execution_count": null,
   "id": "e6037c41",
   "metadata": {},
   "outputs": [],
   "source": [
    "i.Millions of engineers and scientists worldwide use MATLAB for a range of applications, in industry and academia, including deep learning and machine learning, signal processing and communications, image and video processing, control systems, test and measurement, computational finance, and computational biology.\n",
    "\n",
    "ii.For example, deep learning algorithms are used for diabetic retinopathy detection, early detection of Alzheimer and ultrasound detection of breast nodules. Thanks to new advances in deep learning, most pathology and radiology images can be investigated in the future.\n",
    "\n",
    "iii.Market basket analysis is a data mining technique used by retailers to increase sales by better understanding customer purchasing patterns. It involves analyzing large data sets, such as purchase history, to reveal product groupings, as well as products that are likely to be purchased together.\n"
   ]
  },
  {
   "cell_type": "code",
   "execution_count": null,
   "id": "ab010c78",
   "metadata": {},
   "outputs": [],
   "source": []
  },
  {
   "cell_type": "code",
   "execution_count": null,
   "id": "7790eecd",
   "metadata": {},
   "outputs": [],
   "source": [
    "11. Make a comparison between:-\n",
    "\n",
    "         1. Generalization and abstraction\n",
    "\n",
    "          2. Learning that is guided and unsupervised\n",
    "\n",
    "          3. Regression and classification"
   ]
  },
  {
   "cell_type": "code",
   "execution_count": null,
   "id": "1baae31d",
   "metadata": {},
   "outputs": [],
   "source": [
    "1.Generalization and abstraction\n",
    "    abstraction reduces complexity by hiding irrelevant detail, generalization reduces complexity by replacing multiple entities which perform similar functions with a single construct\n",
    "\n",
    "2.Learning that is guided and unsupervised\n",
    "    supervised learning uses labeled input and output data, while an unsupervised learning algorithm does not. In supervised learning, the algorithm “learns” from the training dataset by iteratively making predictions on the data and adjusting for the correct answer.\n",
    "\n",
    "3. Regression and classification   \n",
    "    The most significant difference between regression vs classification is that while regression helps predict a continuous quantity, classification predicts discrete class labels"
   ]
  }
 ],
 "metadata": {
  "kernelspec": {
   "display_name": "Python 3 (ipykernel)",
   "language": "python",
   "name": "python3"
  },
  "language_info": {
   "codemirror_mode": {
    "name": "ipython",
    "version": 3
   },
   "file_extension": ".py",
   "mimetype": "text/x-python",
   "name": "python",
   "nbconvert_exporter": "python",
   "pygments_lexer": "ipython3",
   "version": "3.9.7"
  }
 },
 "nbformat": 4,
 "nbformat_minor": 5
}
