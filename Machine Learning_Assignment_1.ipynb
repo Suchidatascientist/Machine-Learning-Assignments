{
 "cells": [
  {
   "cell_type": "code",
   "execution_count": null,
   "id": "d8c4e69e",
   "metadata": {},
   "outputs": [],
   "source": [
    "1. What does one mean by the term \"machine learning\"?"
   ]
  },
  {
   "cell_type": "code",
   "execution_count": null,
   "id": "05f3029e",
   "metadata": {},
   "outputs": [],
   "source": [
    "Machine learning is a branch of artificial intelligence (AI) and computer science which focuses on the use of data and algorithms to imitate the way that humans learn, gradually improving its accuracy"
   ]
  },
  {
   "cell_type": "code",
   "execution_count": null,
   "id": "dd906d09",
   "metadata": {},
   "outputs": [],
   "source": []
  },
  {
   "cell_type": "code",
   "execution_count": null,
   "id": "90c34f9b",
   "metadata": {},
   "outputs": [],
   "source": [
    "2.Can you think of 4 distinct types of issues where it shines?"
   ]
  },
  {
   "cell_type": "code",
   "execution_count": null,
   "id": "d017349c",
   "metadata": {},
   "outputs": [],
   "source": [
    "Machine learning algorithms have had good results on problems such has spam detection in email, cancer diagnosis, fraudulent credit card transactions, and automatically driving vehicles."
   ]
  },
  {
   "cell_type": "code",
   "execution_count": null,
   "id": "e33a43a9",
   "metadata": {},
   "outputs": [],
   "source": []
  },
  {
   "cell_type": "code",
   "execution_count": null,
   "id": "0f84b01e",
   "metadata": {},
   "outputs": [],
   "source": [
    "3.What is a labeled training set, and how does it work?"
   ]
  },
  {
   "cell_type": "code",
   "execution_count": null,
   "id": "d9ade827",
   "metadata": {},
   "outputs": [],
   "source": [
    "A labeled training set is a collection of data where one of the features of the data indicates the class the training example belongs to. A labeled training set is used in supervised learning algorithms"
   ]
  },
  {
   "cell_type": "code",
   "execution_count": null,
   "id": "47b87d80",
   "metadata": {},
   "outputs": [],
   "source": []
  },
  {
   "cell_type": "code",
   "execution_count": null,
   "id": "fb7f90a4",
   "metadata": {},
   "outputs": [],
   "source": [
    "4.What are the two most important tasks that are supervised?"
   ]
  },
  {
   "cell_type": "code",
   "execution_count": null,
   "id": "9c457f3a",
   "metadata": {},
   "outputs": [],
   "source": [
    "The two most common supervised learning tasks are regression and classification. In a regression problem  our prediciton is a scalar value. When we're trying to solve a classification problem, our output is either 1 or 0."
   ]
  },
  {
   "cell_type": "code",
   "execution_count": null,
   "id": "2d46d433",
   "metadata": {},
   "outputs": [],
   "source": []
  },
  {
   "cell_type": "code",
   "execution_count": null,
   "id": "1b713aec",
   "metadata": {},
   "outputs": [],
   "source": [
    "5.Can you think of four examples of unsupervised tasks?"
   ]
  },
  {
   "cell_type": "code",
   "execution_count": null,
   "id": "18461994",
   "metadata": {},
   "outputs": [],
   "source": [
    "Common unsupervised tasks include clustering, visualization, dimensionality reduction and association rule learning."
   ]
  },
  {
   "cell_type": "code",
   "execution_count": null,
   "id": "94b6ae03",
   "metadata": {},
   "outputs": [],
   "source": []
  },
  {
   "cell_type": "code",
   "execution_count": null,
   "id": "e67673c9",
   "metadata": {},
   "outputs": [],
   "source": [
    "6.State the machine learning model that would be best to make a robot walk through various unfamiliar terrains?"
   ]
  },
  {
   "cell_type": "code",
   "execution_count": null,
   "id": "b5a1f407",
   "metadata": {},
   "outputs": [],
   "source": [
    "The best Machine Learning algorithm to allow a robot to walk in unknown terrain is Reinforced Learning, where the robot can learn from response of the terrain to optimize itself."
   ]
  },
  {
   "cell_type": "code",
   "execution_count": null,
   "id": "73f304de",
   "metadata": {},
   "outputs": [],
   "source": []
  },
  {
   "cell_type": "code",
   "execution_count": null,
   "id": "ad399768",
   "metadata": {},
   "outputs": [],
   "source": [
    "7.Which algorithm will you use to divide your customers into different groups?"
   ]
  },
  {
   "cell_type": "code",
   "execution_count": null,
   "id": "53cb0662",
   "metadata": {},
   "outputs": [],
   "source": [
    "I would use some sort of clustering algorithm that can find the decision boundaries in the groups automatically. This is an unsupervised approach. However, if I already knew the categories of my customers, then I would choose a supervised approach and go with a classification algorithm."
   ]
  },
  {
   "cell_type": "code",
   "execution_count": null,
   "id": "76f4251d",
   "metadata": {},
   "outputs": [],
   "source": []
  },
  {
   "cell_type": "code",
   "execution_count": null,
   "id": "8224edfb",
   "metadata": {},
   "outputs": [],
   "source": [
    "8.Will you consider the problem of spam detection to be a supervised or unsupervised learning problem?"
   ]
  },
  {
   "cell_type": "code",
   "execution_count": null,
   "id": "c676d115",
   "metadata": {},
   "outputs": [],
   "source": [
    "I would frame it as a supervised learning problem because humans have a general idea about what spam is and what it isn't. We can use this notion to create a labeled dataset for an algorithm to learn from."
   ]
  },
  {
   "cell_type": "code",
   "execution_count": null,
   "id": "a8002fbf",
   "metadata": {},
   "outputs": [],
   "source": []
  },
  {
   "cell_type": "code",
   "execution_count": null,
   "id": "a1c77bcb",
   "metadata": {},
   "outputs": [],
   "source": [
    "9.What is the concept of an online learning system?"
   ]
  },
  {
   "cell_type": "code",
   "execution_count": null,
   "id": "5f90c411",
   "metadata": {},
   "outputs": [],
   "source": [
    "An online learning system learns from new data on-the-fly. As a result, the system is trained incrementally either by using one example at a time or using a mini-batch approach. This keeps each learning step cheap and memory efficient."
   ]
  },
  {
   "cell_type": "code",
   "execution_count": null,
   "id": "eb3b398e",
   "metadata": {},
   "outputs": [],
   "source": []
  },
  {
   "cell_type": "code",
   "execution_count": null,
   "id": "f8b28cce",
   "metadata": {},
   "outputs": [],
   "source": [
    "10.What is out-of-core learning, and how does it differ from core learning?"
   ]
  },
  {
   "cell_type": "code",
   "execution_count": null,
   "id": "62d67a1b",
   "metadata": {},
   "outputs": [],
   "source": [
    "Out-of-core learning refers to a set of algorithms working with data that cannot fit into the memory of a single computer, but that can easily fit into some data storage such as a local hard disk or web repository"
   ]
  },
  {
   "cell_type": "code",
   "execution_count": null,
   "id": "6c3556ab",
   "metadata": {},
   "outputs": [],
   "source": []
  },
  {
   "cell_type": "code",
   "execution_count": null,
   "id": "84959c25",
   "metadata": {},
   "outputs": [],
   "source": [
    "11.What kind of learning algorithm makes predictions using a similarity measure?"
   ]
  },
  {
   "cell_type": "code",
   "execution_count": null,
   "id": "5eba48ab",
   "metadata": {},
   "outputs": [],
   "source": [
    "Instance-based learning algorithms use a measure of similarity to generalize to new cases. In an instance-based learning system, the algorithm learns the examples by heart, then uses the similarity measure to generalize."
   ]
  },
  {
   "cell_type": "code",
   "execution_count": null,
   "id": "2d64de6f",
   "metadata": {},
   "outputs": [],
   "source": []
  },
  {
   "cell_type": "code",
   "execution_count": null,
   "id": "c4c52ef9",
   "metadata": {},
   "outputs": [],
   "source": [
    "12.What's the difference between a model parameter and a hyperparameter in a learning algorithm?"
   ]
  },
  {
   "cell_type": "code",
   "execution_count": null,
   "id": "decbe72d",
   "metadata": {},
   "outputs": [],
   "source": [
    "model parameters are estimated from data automatically and model hyperparameters are set manually and are used in processes to help estimate model parameters."
   ]
  },
  {
   "cell_type": "code",
   "execution_count": null,
   "id": "6fe41f8d",
   "metadata": {},
   "outputs": [],
   "source": []
  },
  {
   "cell_type": "code",
   "execution_count": null,
   "id": "b0cc6f86",
   "metadata": {},
   "outputs": [],
   "source": [
    "13.What are the criteria that model-based learning algorithms look for? What is the most popular method they use to achieve success? What method do they use to make predictions?"
   ]
  },
  {
   "cell_type": "code",
   "execution_count": null,
   "id": "34e8874b",
   "metadata": {},
   "outputs": [],
   "source": [
    "Model based learning algorithm search for the optimal value of parameters in a model that will give the best results for the new instances. We often use a cost function or similar to determine what the parameter value has to be in order to minimize the function. The model makes prediction by using the value of the new instance and the parameters in its function."
   ]
  },
  {
   "cell_type": "code",
   "execution_count": null,
   "id": "7a5613c0",
   "metadata": {},
   "outputs": [],
   "source": []
  },
  {
   "cell_type": "code",
   "execution_count": null,
   "id": "19f5584a",
   "metadata": {},
   "outputs": [],
   "source": [
    "14.Can you name four of the most important Machine Learning challenges?"
   ]
  },
  {
   "cell_type": "code",
   "execution_count": null,
   "id": "d5a123d9",
   "metadata": {},
   "outputs": [],
   "source": [
    "Four main challenges in Machine Learning include overfitting the data (using a model too complicated), underfitting the data (using a simple model), lacking in data and nonrepresentative data"
   ]
  },
  {
   "cell_type": "code",
   "execution_count": null,
   "id": "c1000bd2",
   "metadata": {},
   "outputs": [],
   "source": []
  },
  {
   "cell_type": "code",
   "execution_count": null,
   "id": "3d08a9f7",
   "metadata": {},
   "outputs": [],
   "source": [
    "15.What happens if the model performs well on the training data but fails to generalize the results to new situations? Can you think of three different options?"
   ]
  },
  {
   "cell_type": "code",
   "execution_count": null,
   "id": "fcc4d41b",
   "metadata": {},
   "outputs": [],
   "source": [
    "If the model performs poorly to new instances, then it has overfit on the training data. To solve this, we can do any of the following three: get more data, implement a simpler model, or eliminate outliers or noise from the existing data set."
   ]
  },
  {
   "cell_type": "code",
   "execution_count": null,
   "id": "4cc91abb",
   "metadata": {},
   "outputs": [],
   "source": []
  },
  {
   "cell_type": "code",
   "execution_count": null,
   "id": "2fab4f59",
   "metadata": {},
   "outputs": [],
   "source": [
    "16.What exactly is a test set, and why would you need one?"
   ]
  },
  {
   "cell_type": "code",
   "execution_count": null,
   "id": "d335439e",
   "metadata": {},
   "outputs": [],
   "source": [
    "A test set in machine learning is a secondary (or tertiary) data set that is used to test a machine learning program after it has been trained on an initial training data set"
   ]
  },
  {
   "cell_type": "code",
   "execution_count": null,
   "id": "fb6ea2ee",
   "metadata": {},
   "outputs": [],
   "source": []
  },
  {
   "cell_type": "code",
   "execution_count": null,
   "id": "6a1bc605",
   "metadata": {},
   "outputs": [],
   "source": [
    "17.What is a validation set's purpose?"
   ]
  },
  {
   "cell_type": "code",
   "execution_count": null,
   "id": "c5f12c68",
   "metadata": {},
   "outputs": [],
   "source": [
    "A validation set is a set of data used to train artificial intelligence (AI) with the goal of finding and optimizing the best model to solve a given problem."
   ]
  },
  {
   "cell_type": "code",
   "execution_count": null,
   "id": "f2b60e49",
   "metadata": {},
   "outputs": [],
   "source": []
  },
  {
   "cell_type": "code",
   "execution_count": null,
   "id": "8736b0fd",
   "metadata": {},
   "outputs": [],
   "source": [
    "18.What precisely is the train-dev kit, when will you need it, how do you put it to use?"
   ]
  },
  {
   "cell_type": "code",
   "execution_count": null,
   "id": "332ea806",
   "metadata": {},
   "outputs": [],
   "source": [
    "The goal of dev-set is to rank the models in term of their accuracy and helps us decide which model to proceed further with. Using Dev set we rank all our models in terms of their accuracy and pick the best performing model"
   ]
  },
  {
   "cell_type": "code",
   "execution_count": null,
   "id": "b3a953ba",
   "metadata": {},
   "outputs": [],
   "source": []
  },
  {
   "cell_type": "code",
   "execution_count": null,
   "id": "644592a3",
   "metadata": {},
   "outputs": [],
   "source": [
    "19.What could go wrong if you use the test set to tune hyperparameters?"
   ]
  },
  {
   "cell_type": "code",
   "execution_count": null,
   "id": "ca1507c3",
   "metadata": {},
   "outputs": [],
   "source": [
    "Will lose the possibility to find out how good your model would actually be on unseen data because it has already seen the test data)."
   ]
  }
 ],
 "metadata": {
  "kernelspec": {
   "display_name": "Python 3 (ipykernel)",
   "language": "python",
   "name": "python3"
  },
  "language_info": {
   "codemirror_mode": {
    "name": "ipython",
    "version": 3
   },
   "file_extension": ".py",
   "mimetype": "text/x-python",
   "name": "python",
   "nbconvert_exporter": "python",
   "pygments_lexer": "ipython3",
   "version": "3.9.7"
  }
 },
 "nbformat": 4,
 "nbformat_minor": 5
}
