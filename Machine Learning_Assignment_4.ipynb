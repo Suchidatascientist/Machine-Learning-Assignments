{
 "cells": [
  {
   "cell_type": "code",
   "execution_count": null,
   "id": "173655d1",
   "metadata": {},
   "outputs": [],
   "source": [
    "1. What are the key tasks involved in getting ready to work with machine learning modeling?"
   ]
  },
  {
   "cell_type": "code",
   "execution_count": null,
   "id": "92c4210a",
   "metadata": {},
   "outputs": [],
   "source": [
    "Step 1: Collect Data. ...\n",
    "Step 2: Prepare the data. ...\n",
    "Step 3: Choose the model. ...\n",
    "Step 4 Train your machine model. ...\n",
    "Step 5: Evaluation. ...\n",
    "Step 6: Parameter Tuning. ...\n",
    "Step 7: Prediction or Inference."
   ]
  },
  {
   "cell_type": "code",
   "execution_count": null,
   "id": "c572ffcc",
   "metadata": {},
   "outputs": [],
   "source": []
  },
  {
   "cell_type": "code",
   "execution_count": null,
   "id": "59cfb036",
   "metadata": {},
   "outputs": [],
   "source": [
    "2. What are the different forms of data used in machine learning? Give a specific example for each of them."
   ]
  },
  {
   "cell_type": "code",
   "execution_count": null,
   "id": "3d062361",
   "metadata": {},
   "outputs": [],
   "source": [
    "Most data can be categorized into 4 basic types from a Machine Learning perspective: numerical data, categorical data, time-series data, and text.\n",
    "    \n",
    "Numerical Data :- Numerical data can be characterized by continuous or discrete data. Continuous data can assume any value within a range whereas discrete data has distinct values.\n",
    "\n",
    "Categorical Data :- Categorical data represents characteristics, such as a hockey player’s position, team, hometown.ordinal data, which in some sense is a mix of numerical and categorical data\n",
    "    \n",
    "Time Series Data :- Time series data is a sequence of numbers collected at regular intervals over some period of time. It is very important, especially in particular fields like finance\n",
    "\n",
    "Time series data is a sequence of numbers collected at regular intervals over some period of time. It is very important, especially in particular fields like finance\n",
    "\n",
    "Text :- Text data is basically just words. A lot of the time the first thing that you do with text is you turn it into numbers using some interesting functions like the bag of words formulation."
   ]
  },
  {
   "cell_type": "code",
   "execution_count": null,
   "id": "15146684",
   "metadata": {},
   "outputs": [],
   "source": []
  },
  {
   "cell_type": "code",
   "execution_count": null,
   "id": "2815891e",
   "metadata": {},
   "outputs": [],
   "source": [
    "3. Distinguish:\n",
    "\n",
    "           1. Numeric vs. categorical attributes\n",
    "\n",
    "            2. Feature selection vs. dimensionality reduction"
   ]
  },
  {
   "cell_type": "code",
   "execution_count": null,
   "id": "78e78f0f",
   "metadata": {},
   "outputs": [],
   "source": [
    "Numeric vs. categorical attributes :-\n",
    "    \n",
    "    Categorical data refers to a data type that can be stored and identified based on the names or labels given to them. Numerical data refers to the data that is in the form of numbers, and not in any language or descriptive form. Also known as qualitative data as it qualifies data before classifying it.\n",
    "    The characteristics of categorical data include; lack of a standardized order scale, natural language description, takes numeric values with qualitative properties, and visualized using bar chart and pie chart. \n",
    "    Numerical data, on the other hand, has a standardized order scale, numerical description, takes numeric values with numerical properties, and visualized using bar charts, pie charts, scatter plots, etc.\n",
    "    \n",
    "    \n",
    "Feature selection vs. dimensionality reduction :- \n",
    "    Feature selection is simply selecting and excluding given features without changing them. Dimensionality reduction transforms features into a lower dimension.\n",
    "\n"
   ]
  },
  {
   "cell_type": "code",
   "execution_count": null,
   "id": "890a3e5c",
   "metadata": {},
   "outputs": [],
   "source": []
  },
  {
   "cell_type": "code",
   "execution_count": null,
   "id": "2a2f420d",
   "metadata": {},
   "outputs": [],
   "source": [
    "4. Make quick notes on any two of the following:\n",
    "\n",
    "            1. The histogram\n",
    "\n",
    "             2. Use a scatter plot\n",
    "\n",
    "              3.PCA (Personal Computer Aid)"
   ]
  },
  {
   "cell_type": "code",
   "execution_count": null,
   "id": "03cb5257",
   "metadata": {},
   "outputs": [],
   "source": [
    "The histogram :-\n",
    "    A histogram is a graphical representation that organizes a group of data points into user-specified ranges. \n",
    "    Similar in appearance to a bar graph, the histogram condenses a data series into an easily interpreted visual by taking many data points and grouping them into logical ranges or bins\n",
    "    \n",
    "Use a scatter plot :- \n",
    "    Scatter plots are used to plot data points on a horizontal and a vertical axis in the attempt to show how much one variable is affected by another. "
   ]
  },
  {
   "cell_type": "code",
   "execution_count": null,
   "id": "aeeba854",
   "metadata": {},
   "outputs": [],
   "source": []
  },
  {
   "cell_type": "code",
   "execution_count": null,
   "id": "c97cd456",
   "metadata": {},
   "outputs": [],
   "source": [
    "5. Why is it necessary to investigate data? Is there a discrepancy in how qualitative and quantitative data are explored?"
   ]
  },
  {
   "cell_type": "code",
   "execution_count": null,
   "id": "e0e741ef",
   "metadata": {},
   "outputs": [],
   "source": [
    "Data analysis is important in business to understand problems facing an organisation, and to explore data in meaningful ways.\n",
    "quantitative data gets you the numbers to prove the broad general points of your research. Qualitative data brings you the details and the depth to understand their full implications. To get the best results from these methods in your surveys, it's important that understand the differences between them."
   ]
  },
  {
   "cell_type": "code",
   "execution_count": null,
   "id": "be33874d",
   "metadata": {},
   "outputs": [],
   "source": []
  },
  {
   "cell_type": "code",
   "execution_count": null,
   "id": "ea06c190",
   "metadata": {},
   "outputs": [],
   "source": [
    "6. What are the various histogram shapes? What exactly are ‘bins'?"
   ]
  },
  {
   "cell_type": "code",
   "execution_count": null,
   "id": "ff6073fd",
   "metadata": {},
   "outputs": [],
   "source": [
    "Bell-shaped: A bell-shaped picture, shown below, usually presents a normal distribution.\n",
    "\n",
    "Bimodal: A bimodal shape, shown below, has two peaks. This shape may show that the data has come from two different systems.\n",
    "    \n",
    "Skewed right: distribution skewed to the right is said to be positively skewed. This kind of distribution has a large number of occurrences in the lower value cells (left side) and few in the upper value cells (right side)\n",
    "    \n",
    "Skewed left:This kind of distribution has a large number of occurrences in the upper value cells (right side) and few in the lower value cells (left side).\n",
    "    \n",
    "Uniform : state lottery, in which each class has about the same number of elements. \n",
    "    \n",
    "Random : A random distribution, has no apparent pattern.\n",
    "\n",
    "    \n",
    "A histogram displays numerical data by grouping data into \"bins\" of equal width. Each bin is plotted as a bar whose height corresponds to how many data points are in that bin. Bins are also sometimes called \"intervals\", \"classes\", or \"buckets\"."
   ]
  },
  {
   "cell_type": "code",
   "execution_count": null,
   "id": "8854c096",
   "metadata": {},
   "outputs": [],
   "source": []
  },
  {
   "cell_type": "code",
   "execution_count": null,
   "id": "89c9710e",
   "metadata": {},
   "outputs": [],
   "source": [
    "7. How do we deal with data outliers?"
   ]
  },
  {
   "cell_type": "code",
   "execution_count": null,
   "id": "24b10182",
   "metadata": {},
   "outputs": [],
   "source": [
    "Set up a filter in your testing tool. Even though this has a little cost, filtering out outliers is worth it. ...\n",
    "Remove or change outliers during post-test analysis. ...\n",
    "Change the value of outliers. ...\n",
    "Consider the underlying distribution. ...\n",
    "Consider the value of mild outliers."
   ]
  },
  {
   "cell_type": "code",
   "execution_count": null,
   "id": "5ef896a5",
   "metadata": {},
   "outputs": [],
   "source": []
  },
  {
   "cell_type": "code",
   "execution_count": null,
   "id": "9d6d269b",
   "metadata": {},
   "outputs": [],
   "source": [
    "8. What are the various central inclination measures? Why does mean vary too much from median in certain data sets?"
   ]
  },
  {
   "cell_type": "code",
   "execution_count": null,
   "id": "2e8bb4cb",
   "metadata": {},
   "outputs": [],
   "source": [
    "Mean, Median, and Mode. A measure of central tendency is an important aspect of quantitative data.\n",
    "\n",
    "Mean is simple to use and can be applied to any data array set, whether even or odd. Median is slightly complex to use, and the data set needs to be arranged in the ascending or descending order first before calculation."
   ]
  },
  {
   "cell_type": "code",
   "execution_count": null,
   "id": "41a10dc1",
   "metadata": {},
   "outputs": [],
   "source": []
  },
  {
   "cell_type": "code",
   "execution_count": null,
   "id": "653254b7",
   "metadata": {},
   "outputs": [],
   "source": [
    "9. Describe how a scatter plot can be used to investigate bivariate relationships. Is it possible to find outliers using a scatter plot?"
   ]
  },
  {
   "cell_type": "code",
   "execution_count": null,
   "id": "41d0bc17",
   "metadata": {},
   "outputs": [],
   "source": [
    "Scatterplots are useful for identifying relationships in bivariate data. In considering the relationship between two quantitative variables, we can sometimes identify one of the variables as the explanatory variable, or independent variable, and the other as the response variable, or dependent variable.\n",
    "\n",
    "If there is a regression line on a scatter plot, we can identify outliers.There is at least one outlier on a scatter plot in most cases, and there is usually only one outlier."
   ]
  },
  {
   "cell_type": "code",
   "execution_count": null,
   "id": "e6cf53af",
   "metadata": {},
   "outputs": [],
   "source": []
  },
  {
   "cell_type": "code",
   "execution_count": null,
   "id": "45fce987",
   "metadata": {},
   "outputs": [],
   "source": [
    "10. Describe how cross-tabs can be used to figure out how two variables are related."
   ]
  },
  {
   "cell_type": "code",
   "execution_count": null,
   "id": "87b0ce11",
   "metadata": {},
   "outputs": [],
   "source": [
    "Cross tabulation is a method to quantitatively analyze the relationship between multiple variables. Also known as contingency tables or cross tabs, cross tabulation groups variables to understand the correlation between different variables. "
   ]
  }
 ],
 "metadata": {
  "kernelspec": {
   "display_name": "Python 3 (ipykernel)",
   "language": "python",
   "name": "python3"
  },
  "language_info": {
   "codemirror_mode": {
    "name": "ipython",
    "version": 3
   },
   "file_extension": ".py",
   "mimetype": "text/x-python",
   "name": "python",
   "nbconvert_exporter": "python",
   "pygments_lexer": "ipython3",
   "version": "3.9.7"
  }
 },
 "nbformat": 4,
 "nbformat_minor": 5
}
